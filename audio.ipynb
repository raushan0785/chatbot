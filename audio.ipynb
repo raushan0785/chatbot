{
 "cells": [
  {
   "cell_type": "code",
   "execution_count": 2,
   "metadata": {},
   "outputs": [
    {
     "ename": "PermissionError",
     "evalue": "[Errno 13] Permission denied: 'C:\\\\Temp\\\\tmplylg30i0.wav'",
     "output_type": "error",
     "traceback": [
      "\u001b[1;31m---------------------------------------------------------------------------\u001b[0m",
      "\u001b[1;31mPermissionError\u001b[0m                           Traceback (most recent call last)",
      "Cell \u001b[1;32mIn[2], line 5\u001b[0m\n\u001b[0;32m      2\u001b[0m \u001b[39mfrom\u001b[39;00m \u001b[39mpydub\u001b[39;00m\u001b[39m.\u001b[39;00m\u001b[39mplayback\u001b[39;00m \u001b[39mimport\u001b[39;00m play\n\u001b[0;32m      4\u001b[0m audio_file \u001b[39m=\u001b[39m AudioSegment\u001b[39m.\u001b[39mfrom_wav(\u001b[39m'\u001b[39m\u001b[39moutput10.wav\u001b[39m\u001b[39m'\u001b[39m)\n\u001b[1;32m----> 5\u001b[0m play(audio_file)\n",
      "File \u001b[1;32me:\\ana\\lib\\site-packages\\pydub\\playback.py:71\u001b[0m, in \u001b[0;36mplay\u001b[1;34m(audio_segment)\u001b[0m\n\u001b[0;32m     68\u001b[0m \u001b[39melse\u001b[39;00m:\n\u001b[0;32m     69\u001b[0m     \u001b[39mreturn\u001b[39;00m\n\u001b[1;32m---> 71\u001b[0m _play_with_ffplay(audio_segment)\n",
      "File \u001b[1;32me:\\ana\\lib\\site-packages\\pydub\\playback.py:15\u001b[0m, in \u001b[0;36m_play_with_ffplay\u001b[1;34m(seg)\u001b[0m\n\u001b[0;32m     13\u001b[0m PLAYER \u001b[39m=\u001b[39m get_player_name()\n\u001b[0;32m     14\u001b[0m \u001b[39mwith\u001b[39;00m NamedTemporaryFile(\u001b[39m\"\u001b[39m\u001b[39mw+b\u001b[39m\u001b[39m\"\u001b[39m, suffix\u001b[39m=\u001b[39m\u001b[39m\"\u001b[39m\u001b[39m.wav\u001b[39m\u001b[39m\"\u001b[39m) \u001b[39mas\u001b[39;00m f:\n\u001b[1;32m---> 15\u001b[0m     seg\u001b[39m.\u001b[39;49mexport(f\u001b[39m.\u001b[39;49mname, \u001b[39m\"\u001b[39;49m\u001b[39mwav\u001b[39;49m\u001b[39m\"\u001b[39;49m)\n\u001b[0;32m     16\u001b[0m     subprocess\u001b[39m.\u001b[39mcall([PLAYER, \u001b[39m\"\u001b[39m\u001b[39m-nodisp\u001b[39m\u001b[39m\"\u001b[39m, \u001b[39m\"\u001b[39m\u001b[39m-autoexit\u001b[39m\u001b[39m\"\u001b[39m, \u001b[39m\"\u001b[39m\u001b[39m-hide_banner\u001b[39m\u001b[39m\"\u001b[39m, f\u001b[39m.\u001b[39mname])\n",
      "File \u001b[1;32me:\\ana\\lib\\site-packages\\pydub\\audio_segment.py:867\u001b[0m, in \u001b[0;36mAudioSegment.export\u001b[1;34m(self, out_f, format, codec, bitrate, parameters, tags, id3v2_version, cover)\u001b[0m\n\u001b[0;32m    861\u001b[0m \u001b[39mif\u001b[39;00m \u001b[39mformat\u001b[39m \u001b[39m==\u001b[39m \u001b[39m\"\u001b[39m\u001b[39mraw\u001b[39m\u001b[39m\"\u001b[39m \u001b[39mand\u001b[39;00m (codec \u001b[39mis\u001b[39;00m \u001b[39mnot\u001b[39;00m \u001b[39mNone\u001b[39;00m \u001b[39mor\u001b[39;00m parameters \u001b[39mis\u001b[39;00m \u001b[39mnot\u001b[39;00m \u001b[39mNone\u001b[39;00m):\n\u001b[0;32m    862\u001b[0m     \u001b[39mraise\u001b[39;00m \u001b[39mAttributeError\u001b[39;00m(\n\u001b[0;32m    863\u001b[0m             \u001b[39m'\u001b[39m\u001b[39mCan not invoke ffmpeg when export format is \u001b[39m\u001b[39m\"\u001b[39m\u001b[39mraw\u001b[39m\u001b[39m\"\u001b[39m\u001b[39m; \u001b[39m\u001b[39m'\u001b[39m\n\u001b[0;32m    864\u001b[0m             \u001b[39m'\u001b[39m\u001b[39mspecify an ffmpeg raw format like format=\u001b[39m\u001b[39m\"\u001b[39m\u001b[39ms16le\u001b[39m\u001b[39m\"\u001b[39m\u001b[39m instead \u001b[39m\u001b[39m'\u001b[39m\n\u001b[0;32m    865\u001b[0m             \u001b[39m'\u001b[39m\u001b[39mor call export(format=\u001b[39m\u001b[39m\"\u001b[39m\u001b[39mraw\u001b[39m\u001b[39m\"\u001b[39m\u001b[39m) with no codec or parameters\u001b[39m\u001b[39m'\u001b[39m)\n\u001b[1;32m--> 867\u001b[0m out_f, _ \u001b[39m=\u001b[39m _fd_or_path_or_tempfile(out_f, \u001b[39m'\u001b[39;49m\u001b[39mwb+\u001b[39;49m\u001b[39m'\u001b[39;49m)\n\u001b[0;32m    868\u001b[0m out_f\u001b[39m.\u001b[39mseek(\u001b[39m0\u001b[39m)\n\u001b[0;32m    870\u001b[0m \u001b[39mif\u001b[39;00m \u001b[39mformat\u001b[39m \u001b[39m==\u001b[39m \u001b[39m\"\u001b[39m\u001b[39mraw\u001b[39m\u001b[39m\"\u001b[39m:\n",
      "File \u001b[1;32me:\\ana\\lib\\site-packages\\pydub\\utils.py:60\u001b[0m, in \u001b[0;36m_fd_or_path_or_tempfile\u001b[1;34m(fd, mode, tempfile)\u001b[0m\n\u001b[0;32m     57\u001b[0m     close_fd \u001b[39m=\u001b[39m \u001b[39mTrue\u001b[39;00m\n\u001b[0;32m     59\u001b[0m \u001b[39mif\u001b[39;00m \u001b[39misinstance\u001b[39m(fd, basestring):\n\u001b[1;32m---> 60\u001b[0m     fd \u001b[39m=\u001b[39m \u001b[39mopen\u001b[39;49m(fd, mode\u001b[39m=\u001b[39;49mmode)\n\u001b[0;32m     61\u001b[0m     close_fd \u001b[39m=\u001b[39m \u001b[39mTrue\u001b[39;00m\n\u001b[0;32m     63\u001b[0m \u001b[39mtry\u001b[39;00m:\n",
      "\u001b[1;31mPermissionError\u001b[0m: [Errno 13] Permission denied: 'C:\\\\Temp\\\\tmplylg30i0.wav'"
     ]
    }
   ],
   "source": [
    "from pydub import AudioSegment\n",
    "from pydub.playback import play\n",
    "\n",
    "audio_file = AudioSegment.from_wav('output10.wav')\n",
    "play(audio_file)\n"
   ]
  },
  {
   "cell_type": "code",
   "execution_count": null,
   "metadata": {},
   "outputs": [],
   "source": []
  }
 ],
 "metadata": {
  "kernelspec": {
   "display_name": "base",
   "language": "python",
   "name": "python3"
  },
  "language_info": {
   "codemirror_mode": {
    "name": "ipython",
    "version": 3
   },
   "file_extension": ".py",
   "mimetype": "text/x-python",
   "name": "python",
   "nbconvert_exporter": "python",
   "pygments_lexer": "ipython3",
   "version": "3.9.16"
  },
  "orig_nbformat": 4
 },
 "nbformat": 4,
 "nbformat_minor": 2
}
